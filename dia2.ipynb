{
 "cells": [
  {
   "cell_type": "code",
   "execution_count": 4,
   "id": "ce377227",
   "metadata": {},
   "outputs": [],
   "source": [
    "def saludo_bienvenida(nombre):\n",
    "    print(f'buen dia {nombre}')\n"
   ]
  },
  {
   "cell_type": "code",
   "execution_count": 17,
   "id": "6c9b2b2b",
   "metadata": {},
   "outputs": [
    {
     "name": "stdout",
     "output_type": "stream",
     "text": [
      "juguito nomas\n"
     ]
    }
   ],
   "source": [
    "edad_del_esuario = 15\n",
    "if edad_del_esuario >= 18 and edad_del_esuario <=21 :\n",
    "    print(\"podes tomar pero no comprar\")\n",
    "elif edad_del_esuario <= 18:\n",
    "    print(\"juguito nomas\")\n",
    "else:\n",
    "    print(\"hace lo que quierias\")\n"
   ]
  },
  {
   "cell_type": "code",
   "execution_count": null,
   "id": "ca7cdf56",
   "metadata": {},
   "outputs": [
    {
     "name": "stdout",
     "output_type": "stream",
     "text": [
      "muerte\n"
     ]
    }
   ],
   "source": [
    "temperatura = int(input('cual es la temperatuna'))\n",
    "if temperatura >=-10 and temperatura <= 18:\n",
    "    print ('frequete')\n",
    "elif temperatura >= 19 and temperatura <=30:\n",
    "    print('calor`i')\n",
    "elif temperatura >= 31 and temperatura <=45:\n",
    "    print('hakuro')\n",
    "else:\n",
    "    print('muerte')"
   ]
  },
  {
   "cell_type": "code",
   "execution_count": 46,
   "id": "530d935c",
   "metadata": {},
   "outputs": [
    {
     "name": "stdout",
     "output_type": "stream",
     "text": [
      "contrasena incorrecta\n",
      "contrasena corrcta\n"
     ]
    }
   ],
   "source": [
    "contrasena=987 \n",
    "while True:\n",
    "    contrasena_de_usuario=int(input('introdusca la contasena'))\n",
    "    if contrasena_de_usuario == contrasena:\n",
    "        print('contrasena corrcta')\n",
    "        break\n",
    "    else:\n",
    "        print('contrasena incorrecta') "
   ]
  },
  {
   "cell_type": "code",
   "execution_count": null,
   "id": "1b9bcd10",
   "metadata": {},
   "outputs": [
    {
     "name": "stdout",
     "output_type": "stream",
     "text": [
      "['fanana', 'najanja', 'pera', 'manzana', 'durasno']\n",
      "['fanana', 'najanja', 'pera', 'manzana', 'durasno', 'frutilla']\n",
      "['fanana', 'uva', 'pera', 'manzana', 'durasno', 'frutilla']\n"
     ]
    },
    {
     "data": {
      "text/plain": [
       "'manzana'"
      ]
     },
     "execution_count": 59,
     "metadata": {},
     "output_type": "execute_result"
    }
   ],
   "source": [
    "lista_de_fruta=['fanana' , 'najanja' , 'pera' ,'manzana' , 'durasno']\n",
    "print(lista_de_fruta)\n",
    "\n",
    "#agregar un elemento\n",
    "lista_de_fruta.append('frutilla')\n",
    "print(lista_de_fruta)\n",
    "\n",
    "#modificar\n",
    "lista_de_fruta[1] = ('uva')\n",
    "print(lista_de_fruta)\n",
    "\n",
    "#eliminar el tercer elemento\n",
    "lista_de_fruta.pop(3)"
   ]
  },
  {
   "cell_type": "code",
   "execution_count": null,
   "id": "2d242403",
   "metadata": {},
   "outputs": [],
   "source": [
    "dias_de_la_semana =[1,2,3,4,5,6,7]\n",
    "for i in dias_de_la_semana:\n",
    "    print(i)"
   ]
  },
  {
   "cell_type": "code",
   "execution_count": 66,
   "id": "f19342a9",
   "metadata": {},
   "outputs": [
    {
     "name": "stdout",
     "output_type": "stream",
     "text": [
      "0\n",
      "2\n",
      "4\n",
      "6\n",
      "8\n",
      "10\n",
      "12\n",
      "14\n",
      "16\n",
      "18\n"
     ]
    }
   ],
   "source": [
    "for i in range(10):\n",
    "    resultado= i*2\n",
    "    print(resultado)"
   ]
  },
  {
   "cell_type": "code",
   "execution_count": 79,
   "id": "799d8c57",
   "metadata": {},
   "outputs": [
    {
     "name": "stdout",
     "output_type": "stream",
     "text": [
      "samsug\n",
      "iphone\n"
     ]
    }
   ],
   "source": [
    "lista_de_marca=['xiomi', 'samsug', 'iphone', 'nokia']\n",
    "for marca in lista_de_marca:\n",
    "    if len (marca) >= 6:\n",
    "        print(marca)"
   ]
  },
  {
   "cell_type": "code",
   "execution_count": null,
   "id": "22326560",
   "metadata": {},
   "outputs": [
    {
     "name": "stdout",
     "output_type": "stream",
     "text": [
      "encontre_la_o\n"
     ]
    }
   ],
   "source": [
    "frase=(input('ingrese una frase'))\n",
    "for i in frase:\n",
    "    if i == 'o':\n",
    "        print('encontre la o')"
   ]
  }
 ],
 "metadata": {
  "kernelspec": {
   "display_name": "Python 3",
   "language": "python",
   "name": "python3"
  },
  "language_info": {
   "codemirror_mode": {
    "name": "ipython",
    "version": 3
   },
   "file_extension": ".py",
   "mimetype": "text/x-python",
   "name": "python",
   "nbconvert_exporter": "python",
   "pygments_lexer": "ipython3",
   "version": "3.12.10"
  }
 },
 "nbformat": 4,
 "nbformat_minor": 5
}
