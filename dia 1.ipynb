{
 "cells": [
  {
   "cell_type": "code",
   "execution_count": null,
   "id": "0f785586",
   "metadata": {},
   "outputs": [
    {
     "name": "stdout",
     "output_type": "stream",
     "text": [
      "95\n",
      "65\n"
     ]
    }
   ],
   "source": [
    "#suma\n",
    "cantidad_de_manzanas = 50\n",
    "cantidad_de_naranja = 45\n",
    "cnatidad_de_frutas = cantidad_de_manzanas + cantidad_de_naranja\n",
    "print(cnatidad_de_frutas)\n",
    "\n",
    "#resta\n",
    "frutas_vendidas = 30\n",
    "fruta_restantes = cnatidad_de_frutas - frutas_vendidas\n",
    "print(fruta_restantes)"
   ]
  },
  {
   "cell_type": "code",
   "execution_count": 9,
   "id": "df637e8f",
   "metadata": {},
   "outputs": [
    {
     "name": "stdout",
     "output_type": "stream",
     "text": [
      "hola me llamo ale arriola mucho gusto\n"
     ]
    }
   ],
   "source": [
    "nombre = 'ale'\n",
    "apellido = 'arriola'\n",
    "print(f\"hola me llamo {nombre} {apellido} mucho gusto\")"
   ]
  },
  {
   "cell_type": "code",
   "execution_count": 10,
   "id": "f6a4d288",
   "metadata": {},
   "outputs": [
    {
     "ename": "SyntaxError",
     "evalue": "invalid syntax (3661725429.py, line 1)",
     "output_type": "error",
     "traceback": [
      "  \u001b[36mCell\u001b[39m\u001b[36m \u001b[39m\u001b[32mIn[10]\u001b[39m\u001b[32m, line 1\u001b[39m\n\u001b[31m    \u001b[39m\u001b[31mnumero1= int(input'ingrasa un numero')\u001b[39m\n                      ^\n\u001b[31mSyntaxError\u001b[39m\u001b[31m:\u001b[39m invalid syntax\n"
     ]
    }
   ],
   "source": [
    "numero1= int(input'ingrasa un numero')\n",
    "numero2= int(input 'dame otro numero')\n",
    "suma = numero1 + numero2\n",
    "print(suma)\n"
   ]
  }
 ],
 "metadata": {
  "kernelspec": {
   "display_name": "Python 3",
   "language": "python",
   "name": "python3"
  },
  "language_info": {
   "codemirror_mode": {
    "name": "ipython",
    "version": 3
   },
   "file_extension": ".py",
   "mimetype": "text/x-python",
   "name": "python",
   "nbconvert_exporter": "python",
   "pygments_lexer": "ipython3",
   "version": "3.12.10"
  }
 },
 "nbformat": 4,
 "nbformat_minor": 5
}
