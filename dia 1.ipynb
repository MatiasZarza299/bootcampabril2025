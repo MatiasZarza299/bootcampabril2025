{
 "cells": [
  {
   "cell_type": "code",
   "execution_count": null,
   "id": "0f785586",
   "metadata": {},
   "outputs": [
    {
     "name": "stdout",
     "output_type": "stream",
     "text": [
      "95\n",
      "65\n"
     ]
    }
   ],
   "source": [
    "#suma\n",
    "cantidad_de_manzanas = 50\n",
    "cantidad_de_naranja = 45\n",
    "cnatidad_de_frutas = cantidad_de_manzanas + cantidad_de_naranja\n",
    "print(cnatidad_de_frutas)\n",
    "\n",
    "#resta\n",
    "frutas_vendidas = 30\n",
    "fruta_restantes = cnatidad_de_frutas - frutas_vendidas\n",
    "print(fruta_restantes)"
   ]
  },
  {
   "cell_type": "code",
   "execution_count": 9,
   "id": "df637e8f",
   "metadata": {},
   "outputs": [
    {
     "name": "stdout",
     "output_type": "stream",
     "text": [
      "hola me llamo ale arriola mucho gusto\n"
     ]
    }
   ],
   "source": [
    "nombre = 'ale'\n",
    "apellido = 'arriola'\n",
    "print(f\"hola me llamo {nombre} {apellido} mucho gusto\")"
   ]
  },
  {
   "cell_type": "code",
   "execution_count": 2,
   "id": "f6a4d288",
   "metadata": {},
   "outputs": [
    {
     "name": "stdout",
     "output_type": "stream",
     "text": [
      "13\n"
     ]
    }
   ],
   "source": [
    "numero1= int(input('ingrasa un numero'))\n",
    "numero2= int(input('dame otro numero'))\n",
    "suma = numero1 + numero2\n",
    "print(suma)\n"
   ]
  },
  {
   "cell_type": "code",
   "execution_count": 8,
   "id": "eb13e72b",
   "metadata": {},
   "outputs": [
    {
     "name": "stdout",
     "output_type": "stream",
     "text": [
      "abrir el pan\n",
      "poner la lechuga\n",
      "poner la milanesa\n",
      "cerrar el pan\n",
      "listo\n"
     ]
    }
   ],
   "source": [
    "def preparar_un_samwich():\n",
    "    print('abrir el pan')\n",
    "    print('poner la lechuga')\n",
    "    print('poner la milanesa')\n",
    "    print('cerrar el pan')\n",
    "    print('listo') \n",
    "    \n",
    "    \n",
    "    \n",
    "preparar_un_samwich() \n"
   ]
  },
  {
   "cell_type": "code",
   "execution_count": 14,
   "id": "aa61685c",
   "metadata": {},
   "outputs": [
    {
     "name": "stdout",
     "output_type": "stream",
     "text": [
      "la caracteristica es\n",
      "de 2 puerta\n",
      "color negro\n",
      "dispensador de agua\n",
      "pantalla tactil\n",
      "iluminacion led\n"
     ]
    }
   ],
   "source": [
    "def comprar_eladera(color):\n",
    "    print('la caracteristica es')\n",
    "    print('de 2 puerta')\n",
    "    print(f'color {color}')\n",
    "    print('dispensador de agua')\n",
    "    print('pantalla tactil')\n",
    "    print('iluminacion led')\n",
    "\n",
    "comprar_eladera('negro')"
   ]
  }
 ],
 "metadata": {
  "kernelspec": {
   "display_name": "Python 3",
   "language": "python",
   "name": "python3"
  },
  "language_info": {
   "codemirror_mode": {
    "name": "ipython",
    "version": 3
   },
   "file_extension": ".py",
   "mimetype": "text/x-python",
   "name": "python",
   "nbconvert_exporter": "python",
   "pygments_lexer": "ipython3",
   "version": "3.12.10"
  }
 },
 "nbformat": 4,
 "nbformat_minor": 5
}
