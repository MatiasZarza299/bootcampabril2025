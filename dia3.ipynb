{
 "cells": [
  {
   "cell_type": "markdown",
   "id": "23cf8aaa",
   "metadata": {},
   "source": [
    "## Challenge 1 🤺 - 10m\n",
    "\n",
    "Crear una función que imprima la variable palabra."
   ]
  },
  {
   "cell_type": "code",
   "execution_count": 8,
   "id": "b8e690dd",
   "metadata": {},
   "outputs": [
    {
     "name": "stdout",
     "output_type": "stream",
     "text": [
      "tmtm\n"
     ]
    }
   ],
   "source": [
    "def inprimir_la_variable_palabra():\n",
    "    palabra='tmtm'\n",
    "    print(palabra)\n",
    "\n",
    "inprimir_la_variable_palabra()"
   ]
  },
  {
   "cell_type": "markdown",
   "id": "00264e41",
   "metadata": {},
   "source": [
    "## Challenge 2 🤺 - 20 min\n",
    "Crear una función que reciba dos letras (parámetros) y que verifique si son iguales:\n",
    "\n",
    "1. Si son iguales, imprimir \"Las letras son iguales\".\n",
    "\n",
    "2. De lo contrario, imprimir \"Las letras son diferentes\"."
   ]
  },
  {
   "cell_type": "code",
   "execution_count": 20,
   "id": "0d4f0ff9",
   "metadata": {},
   "outputs": [
    {
     "name": "stdout",
     "output_type": "stream",
     "text": [
      "si son iguales\n"
     ]
    }
   ],
   "source": [
    "def recibe_dos_letras(letra1,letra2):\n",
    "    if letra1 == letra2:\n",
    "       print('si son iguales')\n",
    "    else:\n",
    "        print('las letras son diferente')\n",
    "\n",
    "\n",
    "recibe_dos_letras('b','b')"
   ]
  },
  {
   "cell_type": "markdown",
   "id": "5167438d",
   "metadata": {},
   "source": [
    "Challenge 3 🤺 - 20m\n",
    "Crear una función que reciba dos parámetros (una palabra y un número), y que retorne True si el número es igual a la cantidad de letras de la palabra. En caso contrario, que retorne False.\n",
    "\n",
    "Pista: cantidad de letras de una palabra en python"
   ]
  },
  {
   "cell_type": "code",
   "execution_count": 23,
   "id": "50dd6321",
   "metadata": {},
   "outputs": [
    {
     "data": {
      "text/plain": [
       "False"
      ]
     },
     "execution_count": 23,
     "metadata": {},
     "output_type": "execute_result"
    }
   ],
   "source": [
    "def parametro(palabra ,numero):\n",
    "    cntidad_de_letras = len (palabra) \n",
    "    if palabra == numero:\n",
    "        return True\n",
    "    else:\n",
    "        return False\n",
    "\n",
    "\n",
    "parametro('hola ',3)"
   ]
  },
  {
   "cell_type": "markdown",
   "id": "9c4b615f",
   "metadata": {},
   "source": [
    "## Challenge 5 🤺 - 25m\n",
    "\n",
    "Pedir al usuario que ingrese 1 palabra, luego convertir esa palabra a una lista con sus caracteres con `list()`. Agregar esa lista de caracteres a una lista llamada `palabras_ingresadas`. Repetir el proceso 3 veces. Cada vez que se agregue una lista de caracteres, imprimir la lista `palabras_ingresadas`.\n",
    "\n",
    "\n",
    "Ejemplo del resultado esperado:\n",
    "\n",
    "```[['c', 'i', 'e', 'l', 'o']]``` # Al ingresar la primera palabra\n",
    "\n",
    "```[['c', 'i', 'e', 'l', 'o'], ['c', 'a', 'l', 'o', 'r']]``` # Al ingresar la segunda palabra\n",
    "\n",
    "```[['c', 'i', 'e', 'l', 'o'], ['c', 'a', 'l', 'o', 'r'], ['n', 'u', 'b', 'e', 's']]``` # Al ingresar la tercera palabra"
   ]
  },
  {
   "cell_type": "code",
   "execution_count": null,
   "id": "6fe07a4e",
   "metadata": {},
   "outputs": [
    {
     "name": "stdout",
     "output_type": "stream",
     "text": [
      "[['h', 'o', 'l', 'a']]\n",
      "[['h', 'o', 'l', 'a'], ['q', 'u', 'e', 't', 'a', 'l']]\n",
      "[['h', 'o', 'l', 'a'], ['q', 'u', 'e', 't', 'a', 'l'], ['p', 'o', 'p', 'o']]\n",
      "[['h', 'o', 'l', 'a'], ['q', 'u', 'e', 't', 'a', 'l'], ['p', 'o', 'p', 'o'], ['v', 'j', 'd', 'v', 'j']]\n",
      "[['h', 'o', 'l', 'a'], ['q', 'u', 'e', 't', 'a', 'l'], ['p', 'o', 'p', 'o'], ['v', 'j', 'd', 'v', 'j'], ['f', 'v', 'b']]\n"
     ]
    }
   ],
   "source": [
    "palabras_ingresadas=[]\n",
    "for i in range(3):\n",
    "    palabra= input('ingrse una palabra')\n",
    "    lista_de_caracteres = list(palabra)\n",
    "    palabras_ingresadas.append(lista_de_caracteres)\n",
    "    print(palabras_ingresadas)"
   ]
  },
  {
   "cell_type": "code",
   "execution_count": null,
   "id": "ad564bba",
   "metadata": {},
   "outputs": [],
   "source": [
    "lista=['h','o','l','i'],['he','l','l','o']\n",
    "for i in range(3):"
   ]
  },
  {
   "cell_type": "code",
   "execution_count": null,
   "id": "4f8cc60c",
   "metadata": {},
   "outputs": [],
   "source": [
    "# Definición de la función que compara dos palabras.\n",
    "def obteniendo_palabra(palabra_a_encontrar, palabra_ingresada):\n",
    "    cantidad_de_letras = 5 # Define la cantidad de letras que se evaluarán (5 letras).\n",
    "    letras_verificadas = []  # Itera sobre cada posición de las letras, del 0 al número definido.\n",
    "    for posicion in range(cantidad_de_letras): # Verifica si la letra en la posición actual coincide entre las dos palabras.\n",
    "        las_letras_son_iguales = palabra_a_encontrar[posicion] == palabra_ingresada[posicion] # Comprueba si la letra ingresada existe en cualquier parte de la palabra objetivo.\n",
    "        la_letra_existe_en_la_palabra = palabra_ingresada[posicion] in palabra_a_encontrar # Si las letras coinciden exactamente en posición y letra:\n",
    "\n",
    "        if las_letras_son_iguales: # Añade la letra rodeada por corchetes a la lista (indica coincidencia exacta).\n",
    "            letras_verificadas.append(\"[\" + palabra_ingresada[posicion] + \"]\") # Si la letra existe en la palabra pero no está en la misma posición:\n",
    "        elif la_letra_existe_en_la_palabra: \n",
    "            letras_verificadas.append(\"(\" + palabra_ingresada[posicion] + \")\") # Añade la letra rodeada por paréntesis (indica coincidencia parcial).\n",
    "        else:\n",
    "            letras_verificadas.append(palabra_ingresada[posicion]) # Si no hay coincidencia, añade la letra tal cual.\n",
    "    return letras_verificadas # Devuelve la lista de letras verificadas con su formato final\n",
    "\n",
    "palabra_a_encontrar = \"cinco\"\n",
    "print(\"Bienvenido al juego\")\n",
    "intentos = 3\n",
    "\n",
    "while intentos > 0: # Muestra el número de intentos restantes.\n",
    "    print(f\"Te quedan {intentos} intentos\") # Solicita al usuario que ingrese una palabra de 5 letras.\n",
    "    palabra = input(\"Ingrese una palabra de 5 letras: \") # Verifica si la palabra ingresada tiene exactamente 5 letras.\n",
    "\n",
    "    if palabra == palabra_a_encontrar:\n",
    "        print(\"Adivinaste la palabra\")\n",
    "        break\n",
    "\n",
    "    resultado = obteniendo_palabra(palabra_a_encontrar, palabra)\n",
    "    print(\"Resultado:\", resultado)\n",
    "\n",
    "    intentos -= 1\n",
    "\n",
    "if intentos == 0:\n",
    "    print(\"Te quedaste sin intentos.\")\n",
    "    print(f\"La palabra correcta era: {palabra_a_encontrar}\")\n"
   ]
  }
 ],
 "metadata": {
  "kernelspec": {
   "display_name": "Python 3",
   "language": "python",
   "name": "python3"
  },
  "language_info": {
   "codemirror_mode": {
    "name": "ipython",
    "version": 3
   },
   "file_extension": ".py",
   "mimetype": "text/x-python",
   "name": "python",
   "nbconvert_exporter": "python",
   "pygments_lexer": "ipython3",
   "version": "3.12.10"
  }
 },
 "nbformat": 4,
 "nbformat_minor": 5
}
